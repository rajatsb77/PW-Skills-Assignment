{
 "cells": [
  {
   "cell_type": "code",
   "execution_count": null,
   "id": "b1a90de0-cd20-47b5-a4b2-5a63a6d74605",
   "metadata": {},
   "outputs": [],
   "source": [
    "Ans 1. Guido van Rossum"
   ]
  },
  {
   "cell_type": "code",
   "execution_count": null,
   "id": "546d9145-cb1f-458f-8986-e2ce9ea9e802",
   "metadata": {},
   "outputs": [],
   "source": [
    "Ans 2. Python supports Object-oriented programming and structured programming."
   ]
  },
  {
   "cell_type": "code",
   "execution_count": null,
   "id": "1e3ff3e5-7cbc-481d-a8a6-4f761eb13efe",
   "metadata": {},
   "outputs": [],
   "source": [
    "Ans 3. Yes, Python is a case−sensitive programming language."
   ]
  },
  {
   "cell_type": "code",
   "execution_count": null,
   "id": "0308a388-23b4-46f6-a87e-34c96071cac0",
   "metadata": {},
   "outputs": [],
   "source": [
    "Ans 4. Extensions of Python File are as follows - .py, .pyi, .pyc, .pyd, .pyo, .pyw, and .pyz"
   ]
  },
  {
   "cell_type": "code",
   "execution_count": null,
   "id": "93b6403d-433d-4499-917d-5ab85cbd24c4",
   "metadata": {},
   "outputs": [],
   "source": [
    "Ans 5. Python is an interpreted language, which means the source code of a Python program is converted into bytecode that is then executed by the Python virtual machine."
   ]
  },
  {
   "cell_type": "code",
   "execution_count": null,
   "id": "0e76bda7-9331-4b2e-a813-f3cc2a87d547",
   "metadata": {},
   "outputs": [],
   "source": [
    "Ans 6. The following are blocks: a module, a function body, and a class definition. Each command typed interactively is a block. A script file (a file given as standard input to the interpreter or specified as a command line argument to the interpreter) is a code block."
   ]
  },
  {
   "cell_type": "code",
   "execution_count": null,
   "id": "132ec2cd-d0a0-4a9f-9aaa-a6f7122b84fd",
   "metadata": {},
   "outputs": [],
   "source": [
    "Ans 7. We can write a single-line comment by adding a single # character before any statement or line of code."
   ]
  },
  {
   "cell_type": "code",
   "execution_count": null,
   "id": "e7a47d56-c523-4894-b061-3714bcc8bc87",
   "metadata": {},
   "outputs": [],
   "source": [
    "Ans 8. We can use the command [python --version] to check the python version for Windows and Mac machines"
   ]
  },
  {
   "cell_type": "code",
   "execution_count": null,
   "id": "52f7d23b-03e9-47a3-8ddb-97148bb65d1a",
   "metadata": {},
   "outputs": [],
   "source": [
    "Ans 9. Python supports the creation of anonymous functions (i.e. functions that are not bound to a name) at runtime, using a construct called lambda."
   ]
  },
  {
   "cell_type": "code",
   "execution_count": null,
   "id": "66d9c2e7-bf94-48db-a0be-379f4125aaf4",
   "metadata": {},
   "outputs": [],
   "source": [
    "Ans 10. pip Install Packages\n",
    "        Developed in 2008, pip (an acronym of “pip Install Packages”) is today the standard tool for installing Python packages and their dependencies in a secure manner. Most recent distributions of Python come with pip preinstalled. Python 2.7."
   ]
  },
  {
   "cell_type": "code",
   "execution_count": null,
   "id": "4dca6e3a-027c-4b26-89de-a86dcc2cd204",
   "metadata": {},
   "outputs": [],
   "source": [
    "Ans 11. \n",
    "Function\tDescription\n",
    "abs()\t    Returns the absolute value of a number\n",
    "all()\t    Returns True if all items in an iterable object are true\n",
    "any()\t    Returns True if any item in an iterable object is true\n",
    "ascii()\t    Returns a readable version of an object. Replaces none-ascii characters with escape character\n",
    "bin()\t    Returns the binary version of a number\n",
    "bool()\t    Returns the boolean value of the specified object\n",
    "bytearray()\tReturns an array of bytes\n",
    "bytes()\t    Returns a bytes object\n",
    "callable()\tReturns True if the specified object is callable, otherwise False\n",
    "chr()\t    Returns a character from the specified Unicode code.\n",
    "classmethod()\tConverts a method into a class method\n",
    "compile()\tReturns the specified source as an object, ready to be executed\n",
    "complex()\tReturns a complex number\n",
    "delattr()\tDeletes the specified attribute (property or method) from the specified object\n",
    "dict()\t    Returns a dictionary (Array)\n",
    "dir()\t    Returns a list of the specified object's properties and methods\n",
    "divmod()\tReturns the quotient and the remainder when argument1 is divided by argument2\n",
    "enumerate()\tTakes a collection (e.g. a tuple) and returns it as an enumerate object\n",
    "eval()\t    Evaluates and executes an expression\n",
    "exec()\t    Executes the specified code (or object)\n",
    "filter()\tUse a filter function to exclude items in an iterable object\n",
    "float()\t    Returns a floating point number\n",
    "format()\tFormats a specified value\n",
    "frozenset()\tReturns a frozenset object\n",
    "getattr()\tReturns the value of the specified attribute (property or method)\n",
    "globals()\tReturns the current global symbol table as a dictionary\n",
    "hasattr()\tReturns True if the specified object has the specified attribute (property/method)\n",
    "hash()\t    Returns the hash value of a specified object\n",
    "help()\t    Executes the built-in help system\n",
    "hex()\t\tConverts a number into a hexadecimal value\n",
    "id()\t    Returns the id of an object\n",
    "input()\t    Allowing user input\n",
    "int()\t    Returns an integer number\n",
    "isinstance()\tReturns True if a specified object is an instance of a specified object\n",
    "issubclass()\tReturns True if a specified class is a subclass of a specified object\n",
    "iter()\t    Returns an iterator object\n",
    "len()\t    Returns the length of an object\n",
    "list()\t    Returns a list\n",
    "locals()\tReturns an updated dictionary of the current local symbol table\n",
    "map()\t    Returns the specified iterator with the specified function applied to each item\n",
    "max()\t    Returns the largest item in an iterable\n",
    "memoryview()\tReturns a memory view object\n",
    "min()\t    Returns the smallest item in an iterable\n",
    "next\t    \tReturns the next item in an iterable\n",
    "object()\tReturns a new object\n",
    "oct()\t    Converts a number into an octal\n",
    "open()\t    Opens a file and returns a file object\n",
    "ord()\t    Convert an integer representing the Unicode of the specified character\n",
    "pow()\t    Returns the value of x to the power of y\n",
    "print()\t    Prints to the standard output device\n",
    "property()\tGets, sets, deletes a property\n",
    "range()\t    Returns a sequence of numbers, starting from 0 and increments by 1 (by default)\n",
    "repr()\t    Returns a readable version of an object\n",
    "reversed()\tReturns a reversed iterator\n",
    "round()\t    Rounds a numbers\n",
    "set()\t    Returns a new set object\n",
    "setattr()\tSets an attribute (property/method) of an object\n",
    "slice()\t    Returns a slice object\n",
    "sorted()\tReturns a sorted list\n",
    "staticmethod()\tConverts a method into a static method\n",
    "str()\t    Returns a string object\n",
    "sum()\t    Sums the items of an iterator\n",
    "super()\t    Returns an object that represents the parent class\n",
    "tuple()\t    Returns a tuple\n",
    "type()\t    Returns the type of an object\n",
    "vars()\t    Returns the __dict__ property of an object\n",
    "zip()\t    Returns an iterator, from two or more iterators\n",
    "\n",
    "Reference Article: https://www.w3schools.com/python/python_ref_functions.asp"
   ]
  },
  {
   "cell_type": "code",
   "execution_count": null,
   "id": "ed4bfe61-007f-463e-bb7d-22672a029ad1",
   "metadata": {},
   "outputs": [],
   "source": [
    "Ans 12. An identifier can have a maximum length of 79 characters in Python"
   ]
  },
  {
   "cell_type": "code",
   "execution_count": null,
   "id": "2c2c3c2f-5627-4c3e-9151-6378b336161c",
   "metadata": {},
   "outputs": [],
   "source": [
    "Ans 13. \n",
    "\n",
    "Advantages: \n",
    "\n",
    "    1. Presence of third-party modules \n",
    "    2. Extensive support libraries(NumPy for numerical calculations, Pandas for data analytics, etc.) \n",
    "    3. Open source and large active community base \n",
    "    4. satile, Easy to read, learn and write\n",
    "\n",
    "Reference Websites\n",
    "\n",
    "1. https://www.geeksforgeeks.org/python-language-advantages-applications/\n",
    "2. https://www.simplilearn.com/why-learn-python-a-guide-to-unlock-your-python-career-article\n",
    "3. https://intellipaat.com/blog/advantages-and-disadvantages-of-python/#:~:text=Easy%2Dto%2Dlearn%20and%20Easy%2Dto%2Duse&text=This%20is%20one%20of%20the,languages%20with%20larger%20code%20blocks.\n",
    "4. https://www.javatpoint.com/advantages-of-python-that-made-it-so-popular-and-its-major-applications"
   ]
  },
  {
   "cell_type": "code",
   "execution_count": null,
   "id": "48974588-8048-484c-b46a-f3872ef30783",
   "metadata": {},
   "outputs": [],
   "source": [
    "Ans 14. Python uses the dynamic memory allocation which is managed by the Heap data structure. Memory Heap holds the objects and other data structures that will be used in the program. Python memory manager manages the allocation or de-allocation of the heap memory space through the API functions.\n",
    "\n",
    "Reference Article: https://www.javatpoint.com/python-memory-management#:~:text=As%20we%20know%2C%20Python%20uses,space%20through%20the%20API%20functions."
   ]
  },
  {
   "cell_type": "code",
   "execution_count": null,
   "id": "c787428e-044e-472d-a871-443e597c0f12",
   "metadata": {},
   "outputs": [],
   "source": [
    "Ans 15. \n",
    "Install python from this link https://www.python.org/downloads/\n",
    "After this, install it on your PC. Look for the location where PYTHON has been installed on your PC using tge following command on your command prompt: cmd python.\n",
    "Then go to advanced system settings and add new variable and name it as PYTHON_NAME and paste the copied path.\n",
    "Then look for the path variable, select it's value and select edit\n",
    "Add a semicolon towards the end of the value if it's not present and then type %PYTHON_HOME%\n",
    "\n",
    "Reference Article: https://www.edureka.co/community/47516/how-to-install-python-on-windows-and-set-path-variable\n",
    "                   https://www.educative.io/answers/how-to-add-python-to-path-variable-in-windows"
   ]
  },
  {
   "cell_type": "code",
   "execution_count": null,
   "id": "c23edac0-7ccd-46d2-ac83-a57ef4bf46a4",
   "metadata": {},
   "outputs": [],
   "source": [
    "Ans 16. Indentation is important to Python, because it's how you determine scope. Scope is how Python knows what code belongs to what part of the program."
   ]
  },
  {
   "cell_type": "code",
   "execution_count": null,
   "id": "00ff9262-59dd-47e9-aeae-4ab3ec0de8cd",
   "metadata": {},
   "outputs": [],
   "source": []
  },
  {
   "cell_type": "code",
   "execution_count": null,
   "id": "95924dfd-b4eb-4b45-80eb-846b0d8ecfa9",
   "metadata": {},
   "outputs": [],
   "source": []
  },
  {
   "cell_type": "code",
   "execution_count": null,
   "id": "fda558b8-d613-45b1-9e5e-d815e5549d14",
   "metadata": {},
   "outputs": [],
   "source": []
  }
 ],
 "metadata": {
  "kernelspec": {
   "display_name": "Python 3 (ipykernel)",
   "language": "python",
   "name": "python3"
  },
  "language_info": {
   "codemirror_mode": {
    "name": "ipython",
    "version": 3
   },
   "file_extension": ".py",
   "mimetype": "text/x-python",
   "name": "python",
   "nbconvert_exporter": "python",
   "pygments_lexer": "ipython3",
   "version": "3.10.8"
  }
 },
 "nbformat": 4,
 "nbformat_minor": 5
}
